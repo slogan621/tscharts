{
 "cells": [
  {
   "cell_type": "code",
   "execution_count": 1,
   "id": "8f9a188e-31fb-41f7-8b0b-5060ba6b55d4",
   "metadata": {},
   "outputs": [],
   "source": [
    "import pandas as pd\n",
    "import matplotlib.pyplot as plt\n",
    "import numpy as np\n",
    "import math\n",
    "from datetime import datetime\n",
    "from dateutil.relativedelta import relativedelta\n",
    "\n"
   ]
  },
  {
   "cell_type": "markdown",
   "id": "73b57a3b-e384-4674-b5e7-560ff2eb5869",
   "metadata": {},
   "source": [
    "## Data Import\n",
    "All necessary file links and merged data can be accessed through the TSD.py file"
   ]
  },
  {
   "cell_type": "code",
   "execution_count": 2,
   "id": "6fef0c70-cd10-4310-ac63-136a1d7f8741",
   "metadata": {},
   "outputs": [],
   "source": [
    "import TSD"
   ]
  },
  {
   "cell_type": "markdown",
   "id": "78efa2f3-2ec5-4dfa-9040-602da85bcab6",
   "metadata": {},
   "source": [
    "### Initial Look at Data\n",
    "A quick print out of the merged data reveals the following:"
   ]
  },
  {
   "cell_type": "code",
   "execution_count": 3,
   "id": "580e12c0-ffce-4dca-b051-723be3352fab",
   "metadata": {},
   "outputs": [
    {
     "data": {
      "text/html": [
       "<div>\n",
       "<style scoped>\n",
       "    .dataframe tbody tr th:only-of-type {\n",
       "        vertical-align: middle;\n",
       "    }\n",
       "\n",
       "    .dataframe tbody tr th {\n",
       "        vertical-align: top;\n",
       "    }\n",
       "\n",
       "    .dataframe thead th {\n",
       "        text-align: right;\n",
       "    }\n",
       "</style>\n",
       "<table border=\"1\" class=\"dataframe\">\n",
       "  <thead>\n",
       "    <tr style=\"text-align: right;\">\n",
       "      <th></th>\n",
       "      <th>id</th>\n",
       "      <th>dob</th>\n",
       "      <th>gender</th>\n",
       "      <th>city</th>\n",
       "      <th>colonia</th>\n",
       "      <th>state_x</th>\n",
       "      <th>id_x</th>\n",
       "      <th>timein</th>\n",
       "      <th>timeout</th>\n",
       "      <th>state_y</th>\n",
       "      <th>clinic_id</th>\n",
       "      <th>patient_id</th>\n",
       "      <th>id_y</th>\n",
       "      <th>location</th>\n",
       "      <th>start</th>\n",
       "      <th>end</th>\n",
       "    </tr>\n",
       "  </thead>\n",
       "  <tbody>\n",
       "    <tr>\n",
       "      <th>0</th>\n",
       "      <td>1</td>\n",
       "      <td>2005-08-09</td>\n",
       "      <td>f</td>\n",
       "      <td>punta colonet</td>\n",
       "      <td>NaN</td>\n",
       "      <td>BC</td>\n",
       "      <td>588</td>\n",
       "      <td>2021-05-07 09:44:49.715394</td>\n",
       "      <td>2021-05-07 09:44:49.715421</td>\n",
       "      <td>i</td>\n",
       "      <td>15</td>\n",
       "      <td>1</td>\n",
       "      <td>15</td>\n",
       "      <td>Thousand Smiles Ensenada</td>\n",
       "      <td>2021-05-01</td>\n",
       "      <td>2021-05-11</td>\n",
       "    </tr>\n",
       "    <tr>\n",
       "      <th>1</th>\n",
       "      <td>1</td>\n",
       "      <td>2005-08-09</td>\n",
       "      <td>f</td>\n",
       "      <td>punta colonet</td>\n",
       "      <td>NaN</td>\n",
       "      <td>BC</td>\n",
       "      <td>607</td>\n",
       "      <td>2021-08-06 09:47:35.775716</td>\n",
       "      <td>2021-08-06 09:47:35.775741</td>\n",
       "      <td>i</td>\n",
       "      <td>16</td>\n",
       "      <td>1</td>\n",
       "      <td>16</td>\n",
       "      <td>Thousand Smiles Ensenada</td>\n",
       "      <td>2021-08-01</td>\n",
       "      <td>2021-08-08</td>\n",
       "    </tr>\n",
       "    <tr>\n",
       "      <th>2</th>\n",
       "      <td>1</td>\n",
       "      <td>2005-08-09</td>\n",
       "      <td>f</td>\n",
       "      <td>punta colonet</td>\n",
       "      <td>NaN</td>\n",
       "      <td>BC</td>\n",
       "      <td>733</td>\n",
       "      <td>2022-05-06 10:01:49.350689</td>\n",
       "      <td>2022-05-06 10:01:49.350714</td>\n",
       "      <td>i</td>\n",
       "      <td>23</td>\n",
       "      <td>1</td>\n",
       "      <td>23</td>\n",
       "      <td>Ensenada</td>\n",
       "      <td>2022-05-06</td>\n",
       "      <td>2022-05-08</td>\n",
       "    </tr>\n",
       "    <tr>\n",
       "      <th>3</th>\n",
       "      <td>1</td>\n",
       "      <td>2005-08-09</td>\n",
       "      <td>f</td>\n",
       "      <td>punta colonet</td>\n",
       "      <td>NaN</td>\n",
       "      <td>BC</td>\n",
       "      <td>1049</td>\n",
       "      <td>2022-11-04 10:19:36.302828</td>\n",
       "      <td>2022-11-04 10:19:36.302844</td>\n",
       "      <td>i</td>\n",
       "      <td>25</td>\n",
       "      <td>1</td>\n",
       "      <td>25</td>\n",
       "      <td>Ensenada</td>\n",
       "      <td>2022-11-04</td>\n",
       "      <td>2022-11-06</td>\n",
       "    </tr>\n",
       "    <tr>\n",
       "      <th>4</th>\n",
       "      <td>1</td>\n",
       "      <td>2005-08-09</td>\n",
       "      <td>f</td>\n",
       "      <td>punta colonet</td>\n",
       "      <td>NaN</td>\n",
       "      <td>BC</td>\n",
       "      <td>1153</td>\n",
       "      <td>2023-02-03 08:59:22.584125</td>\n",
       "      <td>2023-02-03 08:59:22.584141</td>\n",
       "      <td>i</td>\n",
       "      <td>30</td>\n",
       "      <td>1</td>\n",
       "      <td>30</td>\n",
       "      <td>Ensenada</td>\n",
       "      <td>2023-02-03</td>\n",
       "      <td>2023-02-05</td>\n",
       "    </tr>\n",
       "    <tr>\n",
       "      <th>...</th>\n",
       "      <td>...</td>\n",
       "      <td>...</td>\n",
       "      <td>...</td>\n",
       "      <td>...</td>\n",
       "      <td>...</td>\n",
       "      <td>...</td>\n",
       "      <td>...</td>\n",
       "      <td>...</td>\n",
       "      <td>...</td>\n",
       "      <td>...</td>\n",
       "      <td>...</td>\n",
       "      <td>...</td>\n",
       "      <td>...</td>\n",
       "      <td>...</td>\n",
       "      <td>...</td>\n",
       "      <td>...</td>\n",
       "    </tr>\n",
       "    <tr>\n",
       "      <th>740</th>\n",
       "      <td>717</td>\n",
       "      <td>1991-06-02</td>\n",
       "      <td>f</td>\n",
       "      <td>Ensenada</td>\n",
       "      <td>Comunidad Indigena</td>\n",
       "      <td>BC</td>\n",
       "      <td>1319</td>\n",
       "      <td>2023-04-01 10:18:19.003334</td>\n",
       "      <td>2023-04-01 10:18:19.003350</td>\n",
       "      <td>i</td>\n",
       "      <td>34</td>\n",
       "      <td>717</td>\n",
       "      <td>34</td>\n",
       "      <td>Ensenada</td>\n",
       "      <td>2023-03-30</td>\n",
       "      <td>2023-04-03</td>\n",
       "    </tr>\n",
       "    <tr>\n",
       "      <th>741</th>\n",
       "      <td>718</td>\n",
       "      <td>1990-08-13</td>\n",
       "      <td>m</td>\n",
       "      <td>Ensenada</td>\n",
       "      <td>Com. Indigena</td>\n",
       "      <td>BC</td>\n",
       "      <td>1320</td>\n",
       "      <td>2023-04-01 10:24:41.717491</td>\n",
       "      <td>2023-04-01 10:24:41.717507</td>\n",
       "      <td>i</td>\n",
       "      <td>34</td>\n",
       "      <td>718</td>\n",
       "      <td>34</td>\n",
       "      <td>Ensenada</td>\n",
       "      <td>2023-03-30</td>\n",
       "      <td>2023-04-03</td>\n",
       "    </tr>\n",
       "    <tr>\n",
       "      <th>742</th>\n",
       "      <td>719</td>\n",
       "      <td>1989-11-08</td>\n",
       "      <td>f</td>\n",
       "      <td>Ensenada</td>\n",
       "      <td>Com.Indigena</td>\n",
       "      <td>BC</td>\n",
       "      <td>1321</td>\n",
       "      <td>2023-04-01 10:54:06.016797</td>\n",
       "      <td>2023-04-01 10:54:06.016812</td>\n",
       "      <td>i</td>\n",
       "      <td>34</td>\n",
       "      <td>719</td>\n",
       "      <td>34</td>\n",
       "      <td>Ensenada</td>\n",
       "      <td>2023-03-30</td>\n",
       "      <td>2023-04-03</td>\n",
       "    </tr>\n",
       "    <tr>\n",
       "      <th>743</th>\n",
       "      <td>720</td>\n",
       "      <td>2017-02-01</td>\n",
       "      <td>f</td>\n",
       "      <td>Ensenada</td>\n",
       "      <td>Com.Indigena</td>\n",
       "      <td>BC</td>\n",
       "      <td>1322</td>\n",
       "      <td>2023-04-01 11:00:04.252226</td>\n",
       "      <td>2023-04-01 11:00:04.252241</td>\n",
       "      <td>i</td>\n",
       "      <td>34</td>\n",
       "      <td>720</td>\n",
       "      <td>34</td>\n",
       "      <td>Ensenada</td>\n",
       "      <td>2023-03-30</td>\n",
       "      <td>2023-04-03</td>\n",
       "    </tr>\n",
       "    <tr>\n",
       "      <th>744</th>\n",
       "      <td>721</td>\n",
       "      <td>2007-04-27</td>\n",
       "      <td>f</td>\n",
       "      <td>Ensenada</td>\n",
       "      <td>Josefa Ortiz de Dominguez</td>\n",
       "      <td>BC</td>\n",
       "      <td>1323</td>\n",
       "      <td>2023-04-01 11:38:23.581684</td>\n",
       "      <td>2023-04-01 11:38:23.581703</td>\n",
       "      <td>i</td>\n",
       "      <td>34</td>\n",
       "      <td>721</td>\n",
       "      <td>34</td>\n",
       "      <td>Ensenada</td>\n",
       "      <td>2023-03-30</td>\n",
       "      <td>2023-04-03</td>\n",
       "    </tr>\n",
       "  </tbody>\n",
       "</table>\n",
       "<p>745 rows × 16 columns</p>\n",
       "</div>"
      ],
      "text/plain": [
       "      id         dob gender           city                    colonia state_x  \\\n",
       "0      1  2005-08-09      f  punta colonet                        NaN      BC   \n",
       "1      1  2005-08-09      f  punta colonet                        NaN      BC   \n",
       "2      1  2005-08-09      f  punta colonet                        NaN      BC   \n",
       "3      1  2005-08-09      f  punta colonet                        NaN      BC   \n",
       "4      1  2005-08-09      f  punta colonet                        NaN      BC   \n",
       "..   ...         ...    ...            ...                        ...     ...   \n",
       "740  717  1991-06-02      f       Ensenada         Comunidad Indigena      BC   \n",
       "741  718  1990-08-13      m       Ensenada              Com. Indigena      BC   \n",
       "742  719  1989-11-08      f       Ensenada               Com.Indigena      BC   \n",
       "743  720  2017-02-01      f       Ensenada               Com.Indigena      BC   \n",
       "744  721  2007-04-27      f       Ensenada  Josefa Ortiz de Dominguez      BC   \n",
       "\n",
       "     id_x                      timein                     timeout state_y  \\\n",
       "0     588  2021-05-07 09:44:49.715394  2021-05-07 09:44:49.715421       i   \n",
       "1     607  2021-08-06 09:47:35.775716  2021-08-06 09:47:35.775741       i   \n",
       "2     733  2022-05-06 10:01:49.350689  2022-05-06 10:01:49.350714       i   \n",
       "3    1049  2022-11-04 10:19:36.302828  2022-11-04 10:19:36.302844       i   \n",
       "4    1153  2023-02-03 08:59:22.584125  2023-02-03 08:59:22.584141       i   \n",
       "..    ...                         ...                         ...     ...   \n",
       "740  1319  2023-04-01 10:18:19.003334  2023-04-01 10:18:19.003350       i   \n",
       "741  1320  2023-04-01 10:24:41.717491  2023-04-01 10:24:41.717507       i   \n",
       "742  1321  2023-04-01 10:54:06.016797  2023-04-01 10:54:06.016812       i   \n",
       "743  1322  2023-04-01 11:00:04.252226  2023-04-01 11:00:04.252241       i   \n",
       "744  1323  2023-04-01 11:38:23.581684  2023-04-01 11:38:23.581703       i   \n",
       "\n",
       "     clinic_id  patient_id  id_y                  location       start  \\\n",
       "0           15           1    15  Thousand Smiles Ensenada  2021-05-01   \n",
       "1           16           1    16  Thousand Smiles Ensenada  2021-08-01   \n",
       "2           23           1    23                  Ensenada  2022-05-06   \n",
       "3           25           1    25                  Ensenada  2022-11-04   \n",
       "4           30           1    30                  Ensenada  2023-02-03   \n",
       "..         ...         ...   ...                       ...         ...   \n",
       "740         34         717    34                  Ensenada  2023-03-30   \n",
       "741         34         718    34                  Ensenada  2023-03-30   \n",
       "742         34         719    34                  Ensenada  2023-03-30   \n",
       "743         34         720    34                  Ensenada  2023-03-30   \n",
       "744         34         721    34                  Ensenada  2023-03-30   \n",
       "\n",
       "            end  \n",
       "0    2021-05-11  \n",
       "1    2021-08-08  \n",
       "2    2022-05-08  \n",
       "3    2022-11-06  \n",
       "4    2023-02-05  \n",
       "..          ...  \n",
       "740  2023-04-03  \n",
       "741  2023-04-03  \n",
       "742  2023-04-03  \n",
       "743  2023-04-03  \n",
       "744  2023-04-03  \n",
       "\n",
       "[745 rows x 16 columns]"
      ]
     },
     "execution_count": 3,
     "metadata": {},
     "output_type": "execute_result"
    }
   ],
   "source": [
    "merged_df = TSD.merged_df\n",
    "merged_df\n"
   ]
  },
  {
   "cell_type": "markdown",
   "id": "2e6d8750-288e-48e4-b646-9281a154db0c",
   "metadata": {},
   "source": [
    "### Basic Stats - Population\n",
    "Some basic charts showing the makeup of the population using Thousand Smiles Clinics in the given time period."
   ]
  },
  {
   "cell_type": "code",
   "execution_count": 16,
   "id": "edb41aef-0c4b-427f-89d9-eb7f6cb0c234",
   "metadata": {
    "jupyter": {
     "source_hidden": true
    },
    "tags": []
   },
   "outputs": [
    {
     "data": {
      "image/png": "[encoded data removed]",
      "text/plain": [
       "<Figure size 640x480 with 1 Axes>"
      ]
     },
     "metadata": {},
     "output_type": "display_data"
    }
   ],
   "source": [
    "def compute_age(row):\n",
    "    d1 = datetime.strptime(row[\"start\"], \"%Y-%m-%d\")\n",
    "    d2 = datetime.strptime(row[\"dob\"], \"%Y-%m-%d\")\n",
    "    diff_in_years = relativedelta(d1, d2)\n",
    "    return diff_in_years.years\n",
    "\n",
    "merged_df[\"age_in_years\"] = merged_df.apply(lambda row: compute_age(row), axis=1)\n",
    "\n",
    "age_row = merged_df[\"age_in_years\"]\n",
    "fig = plt.figure()\n",
    "axes1 = fig.add_subplot(1,1,1)\n",
    "plt.style.use('seaborn-whitegrid') # nice and clean grid\n",
    "n, bins, patches = axes1.hist(data = merged_df, x='age_in_years', facecolor = '#2ab0ff', edgecolor='#169acf', linewidth=0.5, bins = int(merged_df[\"age_in_years\"].max()))\n",
    "\n",
    "axes1.set_title(\"Number of Registrations By Age (freq)\", fontsize=12)\n",
    "axes1.set_xlabel(\"Age\", fontsize = 10)\n",
    "axes1.set_ylabel(\"Count\", fontsize = 10)\n",
    "\n",
    "n = n.astype('int')\n",
    "for i in range(len(patches)):\n",
    "    patches[i].set_facecolor(plt.cm.viridis(n[i]/max(n)))\n",
    "plt.show()\n",
    "\n"
   ]
  },
  {
   "cell_type": "code",
   "execution_count": 58,
   "id": "fe95167a-1485-43a6-86e4-8877c615cf5e",
   "metadata": {
    "jupyter": {
     "source_hidden": true
    },
    "tags": []
   },
   "outputs": [
    {
     "data": {
      "image/png": "[encoded data removed]",
      "text/plain": [
       "<Figure size 640x480 with 1 Axes>"
      ]
     },
     "metadata": {},
     "output_type": "display_data"
    }
   ],
   "source": [
    "di = {'m': \"Male\", 'f': \"Female\"}\n",
    "merged_df = merged_df.replace({\"gender\": di})\n",
    "\n",
    "\n",
    "gender_row = merged_df[\"gender\"]\n",
    "fig = plt.figure()\n",
    "axes1 = fig.add_subplot(1,1,1)\n",
    "plt.style.use('seaborn-whitegrid') # nice and clean grid\n",
    "n, bins, patches = axes1.hist(data = merged_df, x='gender', facecolor = '#2ab0ff'\n",
    "                              , edgecolor='black', linewidth=0.5, bins = 2, align = 'mid', \n",
    "                                rwidth= 0.5)\n",
    "\n",
    "axes1.set_title(\"Patients by Gender (All Time))\", fontsize=12)\n",
    "axes1.set_xlabel(\"Gender\", fontsize = 10)\n",
    "axes1.set_ylabel(\"Count\", fontsize = 10)\n",
    "patches[1].set_facecolor('#40a48e')\n",
    "patches[0].set_facecolor('yellow')\n",
    "\n",
    "patches[0].set_alpha(0.7)\n",
    "patches[1].set_alpha(0.7)\n",
    "\n",
    "ticks = [(patch._x0 + patch._x1)/2 for patch in patches]\n",
    "plt.xticks(ticks, ticklabels)\n",
    "\n",
    "plt.show()"
   ]
  },
  {
   "cell_type": "code",
   "execution_count": 7,
   "id": "4c5e7f13-1d61-4dff-81de-d367a310c0b5",
   "metadata": {},
   "outputs": [
    {
     "data": {
      "image/png": "[encoded data removed]",
      "text/plain": [
       "<Figure size 640x480 with 1 Axes>"
      ]
     },
     "metadata": {},
     "output_type": "display_data"
    }
   ],
   "source": [
    "med_df = TSD.medical_df[[\"cold_cough_fever\", \"hivaids\", \"anemia\", \"athsma\", \"cancer\", \"congenitalheartdefect\", \"diabetes\", \"epilepsy\", \"bleeding_problems\", \"hepititis\", \"tuberculosis\", \"troublespeaking\", \"troublehearing\", \"troubleeating\", \"born_with_cleft_lip\", \"born_with_cleft_palate\"]].sum()\n",
    "\n",
    "\n",
    "med_df.plot(kind='bar', alpha=0.75, colormap=\"Paired\", stacked=True) \n",
    "#plt.legend([\"cold_cough_fever\", \"hivaids\", \"anemia\", \"athsma\", \"cancer\", \"congenitalheartdefect\", \"diabetes\", \"epilepsy\", \"bleeding_problems\", \"hepititis\", \"tuberculosis\", \"troublespeaking\", \"troublehearing\", \"troubleeating\", \"born_with_cleft_lip\", \"born_with_cleft_palate\"])\n",
    "plt.title(\"Medical Conditions (All Time)\")\n",
    "plt.show()"
   ]
  },
  {
   "cell_type": "code",
   "execution_count": 8,
   "id": "a991796a-45a0-40dd-97c4-f8829606a6cc",
   "metadata": {},
   "outputs": [
    {
     "data": {
      "text/html": [
       "<div>\n",
       "<style scoped>\n",
       "    .dataframe tbody tr th:only-of-type {\n",
       "        vertical-align: middle;\n",
       "    }\n",
       "\n",
       "    .dataframe tbody tr th {\n",
       "        vertical-align: top;\n",
       "    }\n",
       "\n",
       "    .dataframe thead th {\n",
       "        text-align: right;\n",
       "    }\n",
       "</style>\n",
       "<table border=\"1\" class=\"dataframe\">\n",
       "  <thead>\n",
       "    <tr style=\"text-align: right;\">\n",
       "      <th></th>\n",
       "      <th>id</th>\n",
       "      <th>id_x</th>\n",
       "      <th>clinic_id</th>\n",
       "      <th>patient_id</th>\n",
       "      <th>id_y</th>\n",
       "      <th>age_in_years</th>\n",
       "    </tr>\n",
       "  </thead>\n",
       "  <tbody>\n",
       "    <tr>\n",
       "      <th>count</th>\n",
       "      <td>745.000000</td>\n",
       "      <td>745.000000</td>\n",
       "      <td>745.000000</td>\n",
       "      <td>745.000000</td>\n",
       "      <td>745.000000</td>\n",
       "      <td>745.000000</td>\n",
       "    </tr>\n",
       "    <tr>\n",
       "      <th>mean</th>\n",
       "      <td>438.540940</td>\n",
       "      <td>951.000000</td>\n",
       "      <td>24.868456</td>\n",
       "      <td>438.540940</td>\n",
       "      <td>24.868456</td>\n",
       "      <td>14.542282</td>\n",
       "    </tr>\n",
       "    <tr>\n",
       "      <th>std</th>\n",
       "      <td>175.678497</td>\n",
       "      <td>215.207264</td>\n",
       "      <td>4.776048</td>\n",
       "      <td>175.678497</td>\n",
       "      <td>4.776048</td>\n",
       "      <td>13.320537</td>\n",
       "    </tr>\n",
       "    <tr>\n",
       "      <th>min</th>\n",
       "      <td>1.000000</td>\n",
       "      <td>579.000000</td>\n",
       "      <td>14.000000</td>\n",
       "      <td>1.000000</td>\n",
       "      <td>14.000000</td>\n",
       "      <td>0.000000</td>\n",
       "    </tr>\n",
       "    <tr>\n",
       "      <th>25%</th>\n",
       "      <td>343.000000</td>\n",
       "      <td>765.000000</td>\n",
       "      <td>23.000000</td>\n",
       "      <td>343.000000</td>\n",
       "      <td>23.000000</td>\n",
       "      <td>6.000000</td>\n",
       "    </tr>\n",
       "    <tr>\n",
       "      <th>50%</th>\n",
       "      <td>440.000000</td>\n",
       "      <td>951.000000</td>\n",
       "      <td>25.000000</td>\n",
       "      <td>440.000000</td>\n",
       "      <td>25.000000</td>\n",
       "      <td>11.000000</td>\n",
       "    </tr>\n",
       "    <tr>\n",
       "      <th>75%</th>\n",
       "      <td>582.000000</td>\n",
       "      <td>1137.000000</td>\n",
       "      <td>30.000000</td>\n",
       "      <td>582.000000</td>\n",
       "      <td>30.000000</td>\n",
       "      <td>18.000000</td>\n",
       "    </tr>\n",
       "    <tr>\n",
       "      <th>max</th>\n",
       "      <td>721.000000</td>\n",
       "      <td>1323.000000</td>\n",
       "      <td>34.000000</td>\n",
       "      <td>721.000000</td>\n",
       "      <td>34.000000</td>\n",
       "      <td>68.000000</td>\n",
       "    </tr>\n",
       "  </tbody>\n",
       "</table>\n",
       "</div>"
      ],
      "text/plain": [
       "               id         id_x   clinic_id  patient_id        id_y  \\\n",
       "count  745.000000   745.000000  745.000000  745.000000  745.000000   \n",
       "mean   438.540940   951.000000   24.868456  438.540940   24.868456   \n",
       "std    175.678497   215.207264    4.776048  175.678497    4.776048   \n",
       "min      1.000000   579.000000   14.000000    1.000000   14.000000   \n",
       "25%    343.000000   765.000000   23.000000  343.000000   23.000000   \n",
       "50%    440.000000   951.000000   25.000000  440.000000   25.000000   \n",
       "75%    582.000000  1137.000000   30.000000  582.000000   30.000000   \n",
       "max    721.000000  1323.000000   34.000000  721.000000   34.000000   \n",
       "\n",
       "       age_in_years  \n",
       "count    745.000000  \n",
       "mean      14.542282  \n",
       "std       13.320537  \n",
       "min        0.000000  \n",
       "25%        6.000000  \n",
       "50%       11.000000  \n",
       "75%       18.000000  \n",
       "max       68.000000  "
      ]
     },
     "execution_count": 8,
     "metadata": {},
     "output_type": "execute_result"
    }
   ],
   "source": [
    "merged_df.describe()"
   ]
  },
  {
   "cell_type": "markdown",
   "id": "4711aa4e-c9ed-4db5-8ca8-3f8c2146b56b",
   "metadata": {},
   "source": [
    "### Basic Stats - Clinics"
   ]
  },
  {
   "cell_type": "code",
   "execution_count": 9,
   "id": "4e25909d-42ee-41cb-acb9-8ea2e4670c20",
   "metadata": {},
   "outputs": [
    {
     "data": {
      "image/png": "[encoded data removed]",
      "text/plain": [
       "<Figure size 640x480 with 1 Axes>"
      ]
     },
     "metadata": {},
     "output_type": "display_data"
    }
   ],
   "source": [
    "TSD.headshot_df['clinic_id'].value_counts().sort_index().plot(kind='bar', alpha=0.75, rot=0)\n",
    "plt.title(\"Headshots taken per Clinic\")\n",
    "plt.xlabel(\"Clinic ID\")\n",
    "plt.ylabel(\"Count\")\n",
    "plt.show()"
   ]
  },
  {
   "cell_type": "markdown",
   "id": "0cb246dc-078c-4dd0-966f-c37dc6184483",
   "metadata": {
    "tags": []
   },
   "source": [
    "### Information on the Data\n",
    "The following gives information on the data itself."
   ]
  },
  {
   "cell_type": "code",
   "execution_count": 10,
   "id": "bdb654a3-c2f1-4a66-a719-2d29377a814b",
   "metadata": {
    "tags": []
   },
   "outputs": [
    {
     "name": "stdout",
     "output_type": "stream",
     "text": [
      "<class 'pandas.core.frame.DataFrame'>\n",
      "Int64Index: 745 entries, 0 to 744\n",
      "Data columns (total 17 columns):\n",
      " #   Column        Non-Null Count  Dtype \n",
      "---  ------        --------------  ----- \n",
      " 0   id            745 non-null    int64 \n",
      " 1   dob           745 non-null    object\n",
      " 2   gender        745 non-null    object\n",
      " 3   city          708 non-null    object\n",
      " 4   colonia       669 non-null    object\n",
      " 5   state_x       745 non-null    object\n",
      " 6   id_x          745 non-null    int64 \n",
      " 7   timein        745 non-null    object\n",
      " 8   timeout       745 non-null    object\n",
      " 9   state_y       745 non-null    object\n",
      " 10  clinic_id     745 non-null    int64 \n",
      " 11  patient_id    745 non-null    int64 \n",
      " 12  id_y          745 non-null    int64 \n",
      " 13  location      745 non-null    object\n",
      " 14  start         745 non-null    object\n",
      " 15  end           745 non-null    object\n",
      " 16  age_in_years  745 non-null    int64 \n",
      "dtypes: int64(6), object(11)\n",
      "memory usage: 104.8+ KB\n"
     ]
    }
   ],
   "source": [
    "merged_df.info()"
   ]
  },
  {
   "cell_type": "code",
   "execution_count": 11,
   "id": "96819217-580a-492c-bbd3-dc062542cc4e",
   "metadata": {},
   "outputs": [
    {
     "data": {
      "text/plain": [
       "id              445\n",
       "dob             429\n",
       "gender            2\n",
       "city             55\n",
       "colonia         284\n",
       "state_x           3\n",
       "id_x            745\n",
       "timein          745\n",
       "timeout         745\n",
       "state_y           1\n",
       "clinic_id        12\n",
       "patient_id      445\n",
       "id_y             12\n",
       "location          2\n",
       "start            12\n",
       "end              12\n",
       "age_in_years     62\n",
       "dtype: int64"
      ]
     },
     "execution_count": 11,
     "metadata": {},
     "output_type": "execute_result"
    }
   ],
   "source": [
    "merged_df.nunique()"
   ]
  },
  {
   "cell_type": "markdown",
   "id": "37b04426-17b0-4e11-8d6b-6df3edca6a78",
   "metadata": {},
   "source": [
    "#### Potential Problems\n",
    "Are there any missing values?"
   ]
  },
  {
   "cell_type": "code",
   "execution_count": 12,
   "id": "312b9671-d96b-4cb3-8204-7dbde2c2306f",
   "metadata": {},
   "outputs": [
    {
     "data": {
      "text/plain": [
       "id               0\n",
       "dob              0\n",
       "gender           0\n",
       "city            37\n",
       "colonia         76\n",
       "state_x          0\n",
       "id_x             0\n",
       "timein           0\n",
       "timeout          0\n",
       "state_y          0\n",
       "clinic_id        0\n",
       "patient_id       0\n",
       "id_y             0\n",
       "location         0\n",
       "start            0\n",
       "end              0\n",
       "age_in_years     0\n",
       "dtype: int64"
      ]
     },
     "execution_count": 12,
     "metadata": {},
     "output_type": "execute_result"
    }
   ],
   "source": [
    "merged_df.isna().sum()"
   ]
  },
  {
   "cell_type": "markdown",
   "id": "b0f16664-c9be-4b6e-9259-b616a8055935",
   "metadata": {},
   "source": [
    "Are there any duplicate values? (id_x represents unique visit)"
   ]
  },
  {
   "cell_type": "code",
   "execution_count": 13,
   "id": "80abdcd2-6e76-4b76-a059-601e2b83de46",
   "metadata": {},
   "outputs": [
    {
     "data": {
      "text/plain": [
       "0"
      ]
     },
     "execution_count": 13,
     "metadata": {},
     "output_type": "execute_result"
    }
   ],
   "source": [
    "merged_df.duplicated(subset=['id_x']).sum()"
   ]
  },
  {
   "cell_type": "code",
   "execution_count": null,
   "id": "264c4893-c622-48f1-8b4a-dce0f04de02d",
   "metadata": {},
   "outputs": [],
   "source": []
  }
 ],
 "metadata": {
  "kernelspec": {
   "display_name": "default:Python",
   "language": "python",
   "name": "conda-env-default-py"
  },
  "language_info": {
   "codemirror_mode": {
    "name": "ipython",
    "version": 3
   },
   "file_extension": ".py",
   "mimetype": "text/x-python",
   "name": "python",
   "nbconvert_exporter": "python",
   "pygments_lexer": "ipython3",
   "version": "3.9.13"
  }
 },
 "nbformat": 4,
 "nbformat_minor": 5
}
